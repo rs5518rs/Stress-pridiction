{
 "cells": [
  {
   "cell_type": "code",
   "execution_count": 1,
   "id": "761bb914",
   "metadata": {},
   "outputs": [],
   "source": [
    "import pandas as pd\n",
    "import numpy as np\n",
    "import matplotlib.pyplot as plt\n",
    "import seaborn as sns\n",
    "import math\n",
    "import os\n",
    "import glob\n",
    "import zipfile\n",
    "import concurrent.futures\n",
    "import warnings\n",
    "warnings.filterwarnings('ignore')"
   ]
  },
  {
   "cell_type": "code",
   "execution_count": 19,
   "id": "98e2d8c2",
   "metadata": {},
   "outputs": [],
   "source": [
    "folders = glob.glob(os.path.join(\"Stress_dataset/*\"))"
   ]
  },
  {
   "cell_type": "code",
   "execution_count": 20,
   "id": "23409bd2",
   "metadata": {},
   "outputs": [
    {
     "data": {
      "text/plain": [
       "['Stress_dataset\\\\15',\n",
       " 'Stress_dataset\\\\5C',\n",
       " 'Stress_dataset\\\\6B',\n",
       " 'Stress_dataset\\\\6D',\n",
       " 'Stress_dataset\\\\7A',\n",
       " 'Stress_dataset\\\\7E',\n",
       " 'Stress_dataset\\\\83',\n",
       " 'Stress_dataset\\\\8B',\n",
       " 'Stress_dataset\\\\94',\n",
       " 'Stress_dataset\\\\BG',\n",
       " 'Stress_dataset\\\\CE',\n",
       " 'Stress_dataset\\\\DF',\n",
       " 'Stress_dataset\\\\E4',\n",
       " 'Stress_dataset\\\\EG',\n",
       " 'Stress_dataset\\\\F5']"
      ]
     },
     "execution_count": 20,
     "metadata": {},
     "output_type": "execute_result"
    }
   ],
   "source": [
    "folders"
   ]
  },
  {
   "cell_type": "code",
   "execution_count": 21,
   "id": "c55fb660",
   "metadata": {},
   "outputs": [],
   "source": [
    "#folders = glob.glob(os.path.join(\"Stress_dataset/*\"))\n",
    "df = pd.DataFrame()\n",
    "a = 0\n",
    "for j in range(len(folders)):\n",
    "    files = glob.glob(os.path.join(folders[j]+'\\*.zip'))\n",
    "    i = 0\n",
    "    while i < len(files):\n",
    "        zf = zipfile.ZipFile(files[i])\n",
    "        def unzip(file):\n",
    "            zf.extract(file)\n",
    "        with concurrent.futures.ThreadPoolExecutor() as executor:\n",
    "            executor.map(unzip, zf.infolist())\n",
    "      \n",
    "        acc = pd.read_csv('ACC.csv')\n",
    "        bvp = pd.read_csv('BVP.csv')\n",
    "        eda = pd.read_csv('EDA.csv')\n",
    "        hr = pd.read_csv('HR.csv')\n",
    "        file_stat = os.stat('IBI.csv')\n",
    "        if file_stat.st_size > 0:\n",
    "            ibi = pd.read_csv('IBI.csv')\n",
    "        temp = pd.read_csv('TEMP.csv')\n",
    "        \n",
    "        acc.rename({acc.columns[0]:'X_AXIS',acc.columns[1]:'Y_AXIS',acc.columns[2]:'Z_AXIS'},axis = 1,inplace = True)\n",
    "        bvp.rename({bvp.columns[0]:'BVP'},axis = 1,inplace = True)\n",
    "        eda.rename({eda.columns[0]:'EDA'},axis = 1,inplace = True)\n",
    "        hr.rename({hr.columns[0]:'H_RATE'},axis = 1,inplace = True)\n",
    "        if file_stat.st_size > 0:\n",
    "            ibi.rename({ibi.columns[0]:'IBO',ibi.columns[1]:'IB1'},axis = 1,inplace = True)\n",
    "        temp.rename({temp.columns[0]:'TEMP'},axis = 1,inplace = True)\n",
    "\n",
    "        if i == 0:\n",
    "            if file_stat.st_size > 0:\n",
    "                joined = acc.join(bvp).join(eda).join(hr).join(ibi).join(temp).dropna()\n",
    "                df = df.append(joined)\n",
    "            else:\n",
    "                joined = acc.join(bvp).join(eda).join(hr).dropna()\n",
    "                joined['IBO'] = 99999\n",
    "                joined['IB1'] = 99999\n",
    "                joined.join(temp)\n",
    "                df = df.append(joined)\n",
    "        else:\n",
    "            if file_stat.st_size > 0:\n",
    "                joined = acc.join(bvp).join(eda).join(hr).join(ibi).join(temp).dropna()\n",
    "                df = pd.concat([df,joined],ignore_index = True)\n",
    "            else:\n",
    "                joined = acc.join(bvp).join(eda).join(hr).dropna()\n",
    "                joined['IBO'] = 99999\n",
    "                joined['IB1'] = 99999\n",
    "                joined.join(temp)\n",
    "                df = pd.concat([df,joined],ignore_index = True) \n",
    "        i += 1\n",
    "        a += 1\n",
    "\n",
    "    a = 0\n",
    "    \n",
    "df = df[~(df['IBO'] == 99999)]\n",
    "\n"
   ]
  },
  {
   "cell_type": "code",
   "execution_count": 22,
   "id": "150c565b",
   "metadata": {},
   "outputs": [
    {
     "name": "stdout",
     "output_type": "stream",
     "text": [
      "<class 'pandas.core.frame.DataFrame'>\n",
      "Int64Index: 815941 entries, 0 to 854393\n",
      "Data columns (total 9 columns):\n",
      " #   Column  Non-Null Count   Dtype  \n",
      "---  ------  --------------   -----  \n",
      " 0   X_AXIS  815941 non-null  float64\n",
      " 1   Y_AXIS  815941 non-null  float64\n",
      " 2   Z_AXIS  815941 non-null  float64\n",
      " 3   BVP     815941 non-null  float64\n",
      " 4   EDA     815941 non-null  float64\n",
      " 5   H_RATE  815941 non-null  float64\n",
      " 6   IBO     815941 non-null  float64\n",
      " 7   IB1     815941 non-null  object \n",
      " 8   TEMP    815941 non-null  float64\n",
      "dtypes: float64(8), object(1)\n",
      "memory usage: 62.3+ MB\n"
     ]
    }
   ],
   "source": [
    "df.info()"
   ]
  },
  {
   "cell_type": "code",
   "execution_count": 23,
   "id": "a8ce5221",
   "metadata": {},
   "outputs": [],
   "source": [
    "df = df[~(df['IB1']== ' IBI')]"
   ]
  },
  {
   "cell_type": "code",
   "execution_count": 24,
   "id": "28b107c2",
   "metadata": {},
   "outputs": [],
   "source": [
    "df['IB1'] = df['IB1'].astype(float)"
   ]
  },
  {
   "cell_type": "code",
   "execution_count": 25,
   "id": "4aed7087",
   "metadata": {},
   "outputs": [
    {
     "data": {
      "text/plain": [
       "X_AXIS    0\n",
       "Y_AXIS    0\n",
       "Z_AXIS    0\n",
       "BVP       0\n",
       "EDA       0\n",
       "H_RATE    0\n",
       "IBO       0\n",
       "IB1       0\n",
       "TEMP      0\n",
       "dtype: int64"
      ]
     },
     "execution_count": 25,
     "metadata": {},
     "output_type": "execute_result"
    }
   ],
   "source": [
    "df.isnull().sum()"
   ]
  },
  {
   "cell_type": "code",
   "execution_count": 26,
   "id": "51f62c54",
   "metadata": {},
   "outputs": [
    {
     "data": {
      "text/plain": [
       "X_AXIS    float64\n",
       "Y_AXIS    float64\n",
       "Z_AXIS    float64\n",
       "BVP       float64\n",
       "EDA       float64\n",
       "H_RATE    float64\n",
       "IBO       float64\n",
       "IB1       float64\n",
       "TEMP      float64\n",
       "dtype: object"
      ]
     },
     "execution_count": 26,
     "metadata": {},
     "output_type": "execute_result"
    }
   ],
   "source": [
    "df.dtypes"
   ]
  },
  {
   "cell_type": "code",
   "execution_count": 27,
   "id": "626dba66",
   "metadata": {},
   "outputs": [
    {
     "data": {
      "text/html": [
       "<div>\n",
       "<style scoped>\n",
       "    .dataframe tbody tr th:only-of-type {\n",
       "        vertical-align: middle;\n",
       "    }\n",
       "\n",
       "    .dataframe tbody tr th {\n",
       "        vertical-align: top;\n",
       "    }\n",
       "\n",
       "    .dataframe thead th {\n",
       "        text-align: right;\n",
       "    }\n",
       "</style>\n",
       "<table border=\"1\" class=\"dataframe\">\n",
       "  <thead>\n",
       "    <tr style=\"text-align: right;\">\n",
       "      <th></th>\n",
       "      <th>X_AXIS</th>\n",
       "      <th>Y_AXIS</th>\n",
       "      <th>Z_AXIS</th>\n",
       "      <th>BVP</th>\n",
       "      <th>EDA</th>\n",
       "      <th>H_RATE</th>\n",
       "      <th>IBO</th>\n",
       "      <th>IB1</th>\n",
       "      <th>TEMP</th>\n",
       "    </tr>\n",
       "  </thead>\n",
       "  <tbody>\n",
       "    <tr>\n",
       "      <th>count</th>\n",
       "      <td>815939.000000</td>\n",
       "      <td>815939.000000</td>\n",
       "      <td>815939.000000</td>\n",
       "      <td>815939.000000</td>\n",
       "      <td>815939.000000</td>\n",
       "      <td>815939.000000</td>\n",
       "      <td>815939.000000</td>\n",
       "      <td>815939.000000</td>\n",
       "      <td>815939.000000</td>\n",
       "    </tr>\n",
       "    <tr>\n",
       "      <th>mean</th>\n",
       "      <td>-26.112974</td>\n",
       "      <td>-0.664389</td>\n",
       "      <td>26.236042</td>\n",
       "      <td>0.143793</td>\n",
       "      <td>0.902096</td>\n",
       "      <td>84.336610</td>\n",
       "      <td>9095.210078</td>\n",
       "      <td>0.764116</td>\n",
       "      <td>32.491756</td>\n",
       "    </tr>\n",
       "    <tr>\n",
       "      <th>std</th>\n",
       "      <td>33.588470</td>\n",
       "      <td>28.567795</td>\n",
       "      <td>31.324156</td>\n",
       "      <td>105.497682</td>\n",
       "      <td>1.892505</td>\n",
       "      <td>13.488803</td>\n",
       "      <td>8202.282849</td>\n",
       "      <td>0.134704</td>\n",
       "      <td>2.246957</td>\n",
       "    </tr>\n",
       "    <tr>\n",
       "      <th>min</th>\n",
       "      <td>-128.000000</td>\n",
       "      <td>-128.000000</td>\n",
       "      <td>-128.000000</td>\n",
       "      <td>-2460.680000</td>\n",
       "      <td>0.000000</td>\n",
       "      <td>1.000000</td>\n",
       "      <td>9.500000</td>\n",
       "      <td>0.312500</td>\n",
       "      <td>4.000000</td>\n",
       "    </tr>\n",
       "    <tr>\n",
       "      <th>25%</th>\n",
       "      <td>-54.000000</td>\n",
       "      <td>-13.000000</td>\n",
       "      <td>4.000000</td>\n",
       "      <td>-21.820000</td>\n",
       "      <td>0.091230</td>\n",
       "      <td>75.980000</td>\n",
       "      <td>2640.242188</td>\n",
       "      <td>0.671875</td>\n",
       "      <td>31.130000</td>\n",
       "    </tr>\n",
       "    <tr>\n",
       "      <th>50%</th>\n",
       "      <td>-30.000000</td>\n",
       "      <td>0.000000</td>\n",
       "      <td>32.000000</td>\n",
       "      <td>1.550000</td>\n",
       "      <td>0.304773</td>\n",
       "      <td>82.650000</td>\n",
       "      <td>6796.375000</td>\n",
       "      <td>0.750000</td>\n",
       "      <td>32.680000</td>\n",
       "    </tr>\n",
       "    <tr>\n",
       "      <th>75%</th>\n",
       "      <td>-11.000000</td>\n",
       "      <td>14.000000</td>\n",
       "      <td>54.000000</td>\n",
       "      <td>27.280000</td>\n",
       "      <td>0.793289</td>\n",
       "      <td>91.730000</td>\n",
       "      <td>13333.976562</td>\n",
       "      <td>0.828125</td>\n",
       "      <td>34.180000</td>\n",
       "    </tr>\n",
       "    <tr>\n",
       "      <th>max</th>\n",
       "      <td>127.000000</td>\n",
       "      <td>127.000000</td>\n",
       "      <td>127.000000</td>\n",
       "      <td>1601.140000</td>\n",
       "      <td>24.503405</td>\n",
       "      <td>184.220000</td>\n",
       "      <td>45961.546875</td>\n",
       "      <td>1.953125</td>\n",
       "      <td>37.430000</td>\n",
       "    </tr>\n",
       "  </tbody>\n",
       "</table>\n",
       "</div>"
      ],
      "text/plain": [
       "              X_AXIS         Y_AXIS         Z_AXIS            BVP  \\\n",
       "count  815939.000000  815939.000000  815939.000000  815939.000000   \n",
       "mean      -26.112974      -0.664389      26.236042       0.143793   \n",
       "std        33.588470      28.567795      31.324156     105.497682   \n",
       "min      -128.000000    -128.000000    -128.000000   -2460.680000   \n",
       "25%       -54.000000     -13.000000       4.000000     -21.820000   \n",
       "50%       -30.000000       0.000000      32.000000       1.550000   \n",
       "75%       -11.000000      14.000000      54.000000      27.280000   \n",
       "max       127.000000     127.000000     127.000000    1601.140000   \n",
       "\n",
       "                 EDA         H_RATE            IBO            IB1  \\\n",
       "count  815939.000000  815939.000000  815939.000000  815939.000000   \n",
       "mean        0.902096      84.336610    9095.210078       0.764116   \n",
       "std         1.892505      13.488803    8202.282849       0.134704   \n",
       "min         0.000000       1.000000       9.500000       0.312500   \n",
       "25%         0.091230      75.980000    2640.242188       0.671875   \n",
       "50%         0.304773      82.650000    6796.375000       0.750000   \n",
       "75%         0.793289      91.730000   13333.976562       0.828125   \n",
       "max        24.503405     184.220000   45961.546875       1.953125   \n",
       "\n",
       "                TEMP  \n",
       "count  815939.000000  \n",
       "mean       32.491756  \n",
       "std         2.246957  \n",
       "min         4.000000  \n",
       "25%        31.130000  \n",
       "50%        32.680000  \n",
       "75%        34.180000  \n",
       "max        37.430000  "
      ]
     },
     "execution_count": 27,
     "metadata": {},
     "output_type": "execute_result"
    }
   ],
   "source": [
    "df.describe()"
   ]
  },
  {
   "cell_type": "code",
   "execution_count": 28,
   "id": "8a6b2ce5",
   "metadata": {},
   "outputs": [],
   "source": [
    "from sklearn.preprocessing import QuantileTransformer\n",
    "\n",
    "quantile_transformer = QuantileTransformer(output_distribution='normal')\n",
    "\n",
    "quantiles = quantile_transformer.fit_transform(df[['X_AXIS', 'Y_AXIS', 'Z_AXIS', 'BVP', 'H_RATE']])\n",
    "df['label'] = np.where((quantiles[:, 0] > 0) & (quantiles[:, 1] > 0) & (quantiles[:, 2] > 0) & \n",
    "                         (quantiles[:, 3] > 0) & (quantiles[:, 4] > 0), 1, 0)\n"
   ]
  },
  {
   "cell_type": "code",
   "execution_count": 29,
   "id": "bb8ff257",
   "metadata": {},
   "outputs": [],
   "source": [
    "zero_data = df[df['label'] == 0]\n",
    "ones_data = df[df['label'] == 1]\n",
    "\n",
    "zero_data = zero_data.sample(32000)\n",
    "df = pd.concat([zero_data,ones_data],ignore_index = True)"
   ]
  },
  {
   "cell_type": "code",
   "execution_count": 30,
   "id": "f6136fc2",
   "metadata": {},
   "outputs": [
    {
     "data": {
      "text/plain": [
       "((32000, 10), (31595, 10))"
      ]
     },
     "execution_count": 30,
     "metadata": {},
     "output_type": "execute_result"
    }
   ],
   "source": [
    "zero_data.shape, ones_data.shape"
   ]
  },
  {
   "cell_type": "code",
   "execution_count": 31,
   "id": "d5f4fd68",
   "metadata": {},
   "outputs": [
    {
     "data": {
      "text/html": [
       "<div>\n",
       "<style scoped>\n",
       "    .dataframe tbody tr th:only-of-type {\n",
       "        vertical-align: middle;\n",
       "    }\n",
       "\n",
       "    .dataframe tbody tr th {\n",
       "        vertical-align: top;\n",
       "    }\n",
       "\n",
       "    .dataframe thead th {\n",
       "        text-align: right;\n",
       "    }\n",
       "</style>\n",
       "<table border=\"1\" class=\"dataframe\">\n",
       "  <thead>\n",
       "    <tr style=\"text-align: right;\">\n",
       "      <th></th>\n",
       "      <th>X_AXIS</th>\n",
       "      <th>Y_AXIS</th>\n",
       "      <th>Z_AXIS</th>\n",
       "      <th>BVP</th>\n",
       "      <th>EDA</th>\n",
       "      <th>H_RATE</th>\n",
       "      <th>IBO</th>\n",
       "      <th>IB1</th>\n",
       "      <th>TEMP</th>\n",
       "      <th>label</th>\n",
       "    </tr>\n",
       "  </thead>\n",
       "  <tbody>\n",
       "    <tr>\n",
       "      <th>0</th>\n",
       "      <td>-30.0</td>\n",
       "      <td>-1.0</td>\n",
       "      <td>53.0</td>\n",
       "      <td>145.35</td>\n",
       "      <td>0.101207</td>\n",
       "      <td>72.27</td>\n",
       "      <td>2523.578125</td>\n",
       "      <td>0.937500</td>\n",
       "      <td>28.45</td>\n",
       "      <td>0</td>\n",
       "    </tr>\n",
       "    <tr>\n",
       "      <th>1</th>\n",
       "      <td>-19.0</td>\n",
       "      <td>39.0</td>\n",
       "      <td>29.0</td>\n",
       "      <td>-21.71</td>\n",
       "      <td>0.866516</td>\n",
       "      <td>86.05</td>\n",
       "      <td>3246.812500</td>\n",
       "      <td>0.703125</td>\n",
       "      <td>32.77</td>\n",
       "      <td>0</td>\n",
       "    </tr>\n",
       "    <tr>\n",
       "      <th>2</th>\n",
       "      <td>11.0</td>\n",
       "      <td>2.0</td>\n",
       "      <td>60.0</td>\n",
       "      <td>0.40</td>\n",
       "      <td>0.374081</td>\n",
       "      <td>93.53</td>\n",
       "      <td>19023.828125</td>\n",
       "      <td>0.531250</td>\n",
       "      <td>27.21</td>\n",
       "      <td>0</td>\n",
       "    </tr>\n",
       "    <tr>\n",
       "      <th>3</th>\n",
       "      <td>-72.0</td>\n",
       "      <td>-22.0</td>\n",
       "      <td>-12.0</td>\n",
       "      <td>0.01</td>\n",
       "      <td>0.651727</td>\n",
       "      <td>60.38</td>\n",
       "      <td>44.718750</td>\n",
       "      <td>0.796875</td>\n",
       "      <td>35.18</td>\n",
       "      <td>0</td>\n",
       "    </tr>\n",
       "    <tr>\n",
       "      <th>4</th>\n",
       "      <td>43.0</td>\n",
       "      <td>-55.0</td>\n",
       "      <td>-6.0</td>\n",
       "      <td>36.22</td>\n",
       "      <td>0.184489</td>\n",
       "      <td>79.40</td>\n",
       "      <td>15831.781250</td>\n",
       "      <td>0.640625</td>\n",
       "      <td>33.37</td>\n",
       "      <td>0</td>\n",
       "    </tr>\n",
       "    <tr>\n",
       "      <th>...</th>\n",
       "      <td>...</td>\n",
       "      <td>...</td>\n",
       "      <td>...</td>\n",
       "      <td>...</td>\n",
       "      <td>...</td>\n",
       "      <td>...</td>\n",
       "      <td>...</td>\n",
       "      <td>...</td>\n",
       "      <td>...</td>\n",
       "      <td>...</td>\n",
       "    </tr>\n",
       "    <tr>\n",
       "      <th>63590</th>\n",
       "      <td>40.0</td>\n",
       "      <td>44.0</td>\n",
       "      <td>42.0</td>\n",
       "      <td>33.56</td>\n",
       "      <td>0.140862</td>\n",
       "      <td>97.93</td>\n",
       "      <td>6220.968750</td>\n",
       "      <td>0.656250</td>\n",
       "      <td>33.29</td>\n",
       "      <td>1</td>\n",
       "    </tr>\n",
       "    <tr>\n",
       "      <th>63591</th>\n",
       "      <td>64.0</td>\n",
       "      <td>34.0</td>\n",
       "      <td>39.0</td>\n",
       "      <td>39.65</td>\n",
       "      <td>0.110128</td>\n",
       "      <td>99.90</td>\n",
       "      <td>6223.640625</td>\n",
       "      <td>0.562500</td>\n",
       "      <td>33.25</td>\n",
       "      <td>1</td>\n",
       "    </tr>\n",
       "    <tr>\n",
       "      <th>63592</th>\n",
       "      <td>43.0</td>\n",
       "      <td>43.0</td>\n",
       "      <td>32.0</td>\n",
       "      <td>41.69</td>\n",
       "      <td>0.142142</td>\n",
       "      <td>100.90</td>\n",
       "      <td>6241.687500</td>\n",
       "      <td>0.687500</td>\n",
       "      <td>33.25</td>\n",
       "      <td>1</td>\n",
       "    </tr>\n",
       "    <tr>\n",
       "      <th>63593</th>\n",
       "      <td>0.0</td>\n",
       "      <td>35.0</td>\n",
       "      <td>59.0</td>\n",
       "      <td>89.38</td>\n",
       "      <td>0.157509</td>\n",
       "      <td>100.90</td>\n",
       "      <td>7255.750000</td>\n",
       "      <td>0.531250</td>\n",
       "      <td>33.39</td>\n",
       "      <td>1</td>\n",
       "    </tr>\n",
       "    <tr>\n",
       "      <th>63594</th>\n",
       "      <td>-3.0</td>\n",
       "      <td>20.0</td>\n",
       "      <td>54.0</td>\n",
       "      <td>83.42</td>\n",
       "      <td>0.158789</td>\n",
       "      <td>100.82</td>\n",
       "      <td>7256.296875</td>\n",
       "      <td>0.546875</td>\n",
       "      <td>33.39</td>\n",
       "      <td>1</td>\n",
       "    </tr>\n",
       "  </tbody>\n",
       "</table>\n",
       "<p>63595 rows × 10 columns</p>\n",
       "</div>"
      ],
      "text/plain": [
       "       X_AXIS  Y_AXIS  Z_AXIS     BVP       EDA  H_RATE           IBO  \\\n",
       "0       -30.0    -1.0    53.0  145.35  0.101207   72.27   2523.578125   \n",
       "1       -19.0    39.0    29.0  -21.71  0.866516   86.05   3246.812500   \n",
       "2        11.0     2.0    60.0    0.40  0.374081   93.53  19023.828125   \n",
       "3       -72.0   -22.0   -12.0    0.01  0.651727   60.38     44.718750   \n",
       "4        43.0   -55.0    -6.0   36.22  0.184489   79.40  15831.781250   \n",
       "...       ...     ...     ...     ...       ...     ...           ...   \n",
       "63590    40.0    44.0    42.0   33.56  0.140862   97.93   6220.968750   \n",
       "63591    64.0    34.0    39.0   39.65  0.110128   99.90   6223.640625   \n",
       "63592    43.0    43.0    32.0   41.69  0.142142  100.90   6241.687500   \n",
       "63593     0.0    35.0    59.0   89.38  0.157509  100.90   7255.750000   \n",
       "63594    -3.0    20.0    54.0   83.42  0.158789  100.82   7256.296875   \n",
       "\n",
       "            IB1   TEMP  label  \n",
       "0      0.937500  28.45      0  \n",
       "1      0.703125  32.77      0  \n",
       "2      0.531250  27.21      0  \n",
       "3      0.796875  35.18      0  \n",
       "4      0.640625  33.37      0  \n",
       "...         ...    ...    ...  \n",
       "63590  0.656250  33.29      1  \n",
       "63591  0.562500  33.25      1  \n",
       "63592  0.687500  33.25      1  \n",
       "63593  0.531250  33.39      1  \n",
       "63594  0.546875  33.39      1  \n",
       "\n",
       "[63595 rows x 10 columns]"
      ]
     },
     "execution_count": 31,
     "metadata": {},
     "output_type": "execute_result"
    }
   ],
   "source": [
    "df"
   ]
  },
  {
   "cell_type": "code",
   "execution_count": 32,
   "id": "fde2977c",
   "metadata": {},
   "outputs": [
    {
     "data": {
      "text/plain": [
       "0    32000\n",
       "1    31595\n",
       "Name: label, dtype: int64"
      ]
     },
     "execution_count": 32,
     "metadata": {},
     "output_type": "execute_result"
    }
   ],
   "source": [
    "df['label'].value_counts()"
   ]
  },
  {
   "cell_type": "code",
   "execution_count": 33,
   "id": "640a9830",
   "metadata": {},
   "outputs": [
    {
     "data": {
      "text/html": [
       "<div>\n",
       "<style scoped>\n",
       "    .dataframe tbody tr th:only-of-type {\n",
       "        vertical-align: middle;\n",
       "    }\n",
       "\n",
       "    .dataframe tbody tr th {\n",
       "        vertical-align: top;\n",
       "    }\n",
       "\n",
       "    .dataframe thead th {\n",
       "        text-align: right;\n",
       "    }\n",
       "</style>\n",
       "<table border=\"1\" class=\"dataframe\">\n",
       "  <thead>\n",
       "    <tr style=\"text-align: right;\">\n",
       "      <th></th>\n",
       "      <th>X_AXIS</th>\n",
       "      <th>Y_AXIS</th>\n",
       "      <th>Z_AXIS</th>\n",
       "      <th>BVP</th>\n",
       "      <th>EDA</th>\n",
       "      <th>H_RATE</th>\n",
       "      <th>IBO</th>\n",
       "      <th>IB1</th>\n",
       "      <th>TEMP</th>\n",
       "      <th>label</th>\n",
       "    </tr>\n",
       "  </thead>\n",
       "  <tbody>\n",
       "    <tr>\n",
       "      <th>X_AXIS</th>\n",
       "      <td>1.000000</td>\n",
       "      <td>0.176904</td>\n",
       "      <td>0.337560</td>\n",
       "      <td>0.103288</td>\n",
       "      <td>-0.046442</td>\n",
       "      <td>0.225809</td>\n",
       "      <td>0.106258</td>\n",
       "      <td>-0.157929</td>\n",
       "      <td>0.017616</td>\n",
       "      <td>0.417592</td>\n",
       "    </tr>\n",
       "    <tr>\n",
       "      <th>Y_AXIS</th>\n",
       "      <td>0.176904</td>\n",
       "      <td>1.000000</td>\n",
       "      <td>0.113211</td>\n",
       "      <td>0.105483</td>\n",
       "      <td>-0.061044</td>\n",
       "      <td>0.120306</td>\n",
       "      <td>-0.023538</td>\n",
       "      <td>-0.029169</td>\n",
       "      <td>0.038238</td>\n",
       "      <td>0.364742</td>\n",
       "    </tr>\n",
       "    <tr>\n",
       "      <th>Z_AXIS</th>\n",
       "      <td>0.337560</td>\n",
       "      <td>0.113211</td>\n",
       "      <td>1.000000</td>\n",
       "      <td>0.159047</td>\n",
       "      <td>0.003748</td>\n",
       "      <td>0.145421</td>\n",
       "      <td>0.056217</td>\n",
       "      <td>-0.002023</td>\n",
       "      <td>-0.092081</td>\n",
       "      <td>0.537286</td>\n",
       "    </tr>\n",
       "    <tr>\n",
       "      <th>BVP</th>\n",
       "      <td>0.103288</td>\n",
       "      <td>0.105483</td>\n",
       "      <td>0.159047</td>\n",
       "      <td>1.000000</td>\n",
       "      <td>0.000601</td>\n",
       "      <td>0.107389</td>\n",
       "      <td>0.019411</td>\n",
       "      <td>-0.020588</td>\n",
       "      <td>-0.021010</td>\n",
       "      <td>0.304738</td>\n",
       "    </tr>\n",
       "    <tr>\n",
       "      <th>EDA</th>\n",
       "      <td>-0.046442</td>\n",
       "      <td>-0.061044</td>\n",
       "      <td>0.003748</td>\n",
       "      <td>0.000601</td>\n",
       "      <td>1.000000</td>\n",
       "      <td>0.058895</td>\n",
       "      <td>-0.051691</td>\n",
       "      <td>-0.094547</td>\n",
       "      <td>0.238173</td>\n",
       "      <td>0.011861</td>\n",
       "    </tr>\n",
       "    <tr>\n",
       "      <th>H_RATE</th>\n",
       "      <td>0.225809</td>\n",
       "      <td>0.120306</td>\n",
       "      <td>0.145421</td>\n",
       "      <td>0.107389</td>\n",
       "      <td>0.058895</td>\n",
       "      <td>1.000000</td>\n",
       "      <td>0.048042</td>\n",
       "      <td>-0.208691</td>\n",
       "      <td>0.062488</td>\n",
       "      <td>0.390503</td>\n",
       "    </tr>\n",
       "    <tr>\n",
       "      <th>IBO</th>\n",
       "      <td>0.106258</td>\n",
       "      <td>-0.023538</td>\n",
       "      <td>0.056217</td>\n",
       "      <td>0.019411</td>\n",
       "      <td>-0.051691</td>\n",
       "      <td>0.048042</td>\n",
       "      <td>1.000000</td>\n",
       "      <td>0.051550</td>\n",
       "      <td>0.114383</td>\n",
       "      <td>0.046077</td>\n",
       "    </tr>\n",
       "    <tr>\n",
       "      <th>IB1</th>\n",
       "      <td>-0.157929</td>\n",
       "      <td>-0.029169</td>\n",
       "      <td>-0.002023</td>\n",
       "      <td>-0.020588</td>\n",
       "      <td>-0.094547</td>\n",
       "      <td>-0.208691</td>\n",
       "      <td>0.051550</td>\n",
       "      <td>1.000000</td>\n",
       "      <td>-0.119659</td>\n",
       "      <td>-0.128647</td>\n",
       "    </tr>\n",
       "    <tr>\n",
       "      <th>TEMP</th>\n",
       "      <td>0.017616</td>\n",
       "      <td>0.038238</td>\n",
       "      <td>-0.092081</td>\n",
       "      <td>-0.021010</td>\n",
       "      <td>0.238173</td>\n",
       "      <td>0.062488</td>\n",
       "      <td>0.114383</td>\n",
       "      <td>-0.119659</td>\n",
       "      <td>1.000000</td>\n",
       "      <td>-0.011670</td>\n",
       "    </tr>\n",
       "    <tr>\n",
       "      <th>label</th>\n",
       "      <td>0.417592</td>\n",
       "      <td>0.364742</td>\n",
       "      <td>0.537286</td>\n",
       "      <td>0.304738</td>\n",
       "      <td>0.011861</td>\n",
       "      <td>0.390503</td>\n",
       "      <td>0.046077</td>\n",
       "      <td>-0.128647</td>\n",
       "      <td>-0.011670</td>\n",
       "      <td>1.000000</td>\n",
       "    </tr>\n",
       "  </tbody>\n",
       "</table>\n",
       "</div>"
      ],
      "text/plain": [
       "          X_AXIS    Y_AXIS    Z_AXIS       BVP       EDA    H_RATE       IBO  \\\n",
       "X_AXIS  1.000000  0.176904  0.337560  0.103288 -0.046442  0.225809  0.106258   \n",
       "Y_AXIS  0.176904  1.000000  0.113211  0.105483 -0.061044  0.120306 -0.023538   \n",
       "Z_AXIS  0.337560  0.113211  1.000000  0.159047  0.003748  0.145421  0.056217   \n",
       "BVP     0.103288  0.105483  0.159047  1.000000  0.000601  0.107389  0.019411   \n",
       "EDA    -0.046442 -0.061044  0.003748  0.000601  1.000000  0.058895 -0.051691   \n",
       "H_RATE  0.225809  0.120306  0.145421  0.107389  0.058895  1.000000  0.048042   \n",
       "IBO     0.106258 -0.023538  0.056217  0.019411 -0.051691  0.048042  1.000000   \n",
       "IB1    -0.157929 -0.029169 -0.002023 -0.020588 -0.094547 -0.208691  0.051550   \n",
       "TEMP    0.017616  0.038238 -0.092081 -0.021010  0.238173  0.062488  0.114383   \n",
       "label   0.417592  0.364742  0.537286  0.304738  0.011861  0.390503  0.046077   \n",
       "\n",
       "             IB1      TEMP     label  \n",
       "X_AXIS -0.157929  0.017616  0.417592  \n",
       "Y_AXIS -0.029169  0.038238  0.364742  \n",
       "Z_AXIS -0.002023 -0.092081  0.537286  \n",
       "BVP    -0.020588 -0.021010  0.304738  \n",
       "EDA    -0.094547  0.238173  0.011861  \n",
       "H_RATE -0.208691  0.062488  0.390503  \n",
       "IBO     0.051550  0.114383  0.046077  \n",
       "IB1     1.000000 -0.119659 -0.128647  \n",
       "TEMP   -0.119659  1.000000 -0.011670  \n",
       "label  -0.128647 -0.011670  1.000000  "
      ]
     },
     "execution_count": 33,
     "metadata": {},
     "output_type": "execute_result"
    }
   ],
   "source": [
    "df.corr().transpose()"
   ]
  },
  {
   "cell_type": "code",
   "execution_count": 34,
   "id": "87cfa8f4",
   "metadata": {},
   "outputs": [
    {
     "data": {
      "image/png": "[encoded data removed]",
      "text/plain": [
       "<Figure size 432x288 with 12 Axes>"
      ]
     },
     "metadata": {
      "needs_background": "light"
     },
     "output_type": "display_data"
    }
   ],
   "source": [
    "df.hist()\n",
    "plt.show()"
   ]
  },
  {
   "cell_type": "code",
   "execution_count": 35,
   "id": "11b77e3e",
   "metadata": {},
   "outputs": [
    {
     "data": {
      "image/png": "[encoded data removed]",
      "text/plain": [
       "<Figure size 432x288 with 2 Axes>"
      ]
     },
     "metadata": {
      "needs_background": "light"
     },
     "output_type": "display_data"
    }
   ],
   "source": [
    "sns.heatmap(df.corr().transpose(), cmap='magma')\n",
    "plt.show()"
   ]
  },
  {
   "attachments": {},
   "cell_type": "markdown",
   "id": "c0410a13",
   "metadata": {},
   "source": [
    "### **Now we will split the train features and target variables** ###"
   ]
  },
  {
   "cell_type": "code",
   "execution_count": 38,
   "id": "89febbec",
   "metadata": {},
   "outputs": [],
   "source": [
    "train_set = df.iloc[:,0:9]\n",
    "labels = df.iloc[:,9:10]"
   ]
  },
  {
   "cell_type": "code",
   "execution_count": 39,
   "id": "76b7fca4",
   "metadata": {},
   "outputs": [
    {
     "data": {
      "text/html": [
       "<div>\n",
       "<style scoped>\n",
       "    .dataframe tbody tr th:only-of-type {\n",
       "        vertical-align: middle;\n",
       "    }\n",
       "\n",
       "    .dataframe tbody tr th {\n",
       "        vertical-align: top;\n",
       "    }\n",
       "\n",
       "    .dataframe thead th {\n",
       "        text-align: right;\n",
       "    }\n",
       "</style>\n",
       "<table border=\"1\" class=\"dataframe\">\n",
       "  <thead>\n",
       "    <tr style=\"text-align: right;\">\n",
       "      <th></th>\n",
       "      <th>X_AXIS</th>\n",
       "      <th>Y_AXIS</th>\n",
       "      <th>Z_AXIS</th>\n",
       "      <th>BVP</th>\n",
       "      <th>EDA</th>\n",
       "      <th>H_RATE</th>\n",
       "      <th>IBO</th>\n",
       "      <th>IB1</th>\n",
       "      <th>TEMP</th>\n",
       "    </tr>\n",
       "  </thead>\n",
       "  <tbody>\n",
       "    <tr>\n",
       "      <th>0</th>\n",
       "      <td>-30.0</td>\n",
       "      <td>-1.0</td>\n",
       "      <td>53.0</td>\n",
       "      <td>145.35</td>\n",
       "      <td>0.101207</td>\n",
       "      <td>72.27</td>\n",
       "      <td>2523.578125</td>\n",
       "      <td>0.937500</td>\n",
       "      <td>28.45</td>\n",
       "    </tr>\n",
       "    <tr>\n",
       "      <th>1</th>\n",
       "      <td>-19.0</td>\n",
       "      <td>39.0</td>\n",
       "      <td>29.0</td>\n",
       "      <td>-21.71</td>\n",
       "      <td>0.866516</td>\n",
       "      <td>86.05</td>\n",
       "      <td>3246.812500</td>\n",
       "      <td>0.703125</td>\n",
       "      <td>32.77</td>\n",
       "    </tr>\n",
       "    <tr>\n",
       "      <th>2</th>\n",
       "      <td>11.0</td>\n",
       "      <td>2.0</td>\n",
       "      <td>60.0</td>\n",
       "      <td>0.40</td>\n",
       "      <td>0.374081</td>\n",
       "      <td>93.53</td>\n",
       "      <td>19023.828125</td>\n",
       "      <td>0.531250</td>\n",
       "      <td>27.21</td>\n",
       "    </tr>\n",
       "    <tr>\n",
       "      <th>3</th>\n",
       "      <td>-72.0</td>\n",
       "      <td>-22.0</td>\n",
       "      <td>-12.0</td>\n",
       "      <td>0.01</td>\n",
       "      <td>0.651727</td>\n",
       "      <td>60.38</td>\n",
       "      <td>44.718750</td>\n",
       "      <td>0.796875</td>\n",
       "      <td>35.18</td>\n",
       "    </tr>\n",
       "    <tr>\n",
       "      <th>4</th>\n",
       "      <td>43.0</td>\n",
       "      <td>-55.0</td>\n",
       "      <td>-6.0</td>\n",
       "      <td>36.22</td>\n",
       "      <td>0.184489</td>\n",
       "      <td>79.40</td>\n",
       "      <td>15831.781250</td>\n",
       "      <td>0.640625</td>\n",
       "      <td>33.37</td>\n",
       "    </tr>\n",
       "    <tr>\n",
       "      <th>...</th>\n",
       "      <td>...</td>\n",
       "      <td>...</td>\n",
       "      <td>...</td>\n",
       "      <td>...</td>\n",
       "      <td>...</td>\n",
       "      <td>...</td>\n",
       "      <td>...</td>\n",
       "      <td>...</td>\n",
       "      <td>...</td>\n",
       "    </tr>\n",
       "    <tr>\n",
       "      <th>63590</th>\n",
       "      <td>40.0</td>\n",
       "      <td>44.0</td>\n",
       "      <td>42.0</td>\n",
       "      <td>33.56</td>\n",
       "      <td>0.140862</td>\n",
       "      <td>97.93</td>\n",
       "      <td>6220.968750</td>\n",
       "      <td>0.656250</td>\n",
       "      <td>33.29</td>\n",
       "    </tr>\n",
       "    <tr>\n",
       "      <th>63591</th>\n",
       "      <td>64.0</td>\n",
       "      <td>34.0</td>\n",
       "      <td>39.0</td>\n",
       "      <td>39.65</td>\n",
       "      <td>0.110128</td>\n",
       "      <td>99.90</td>\n",
       "      <td>6223.640625</td>\n",
       "      <td>0.562500</td>\n",
       "      <td>33.25</td>\n",
       "    </tr>\n",
       "    <tr>\n",
       "      <th>63592</th>\n",
       "      <td>43.0</td>\n",
       "      <td>43.0</td>\n",
       "      <td>32.0</td>\n",
       "      <td>41.69</td>\n",
       "      <td>0.142142</td>\n",
       "      <td>100.90</td>\n",
       "      <td>6241.687500</td>\n",
       "      <td>0.687500</td>\n",
       "      <td>33.25</td>\n",
       "    </tr>\n",
       "    <tr>\n",
       "      <th>63593</th>\n",
       "      <td>0.0</td>\n",
       "      <td>35.0</td>\n",
       "      <td>59.0</td>\n",
       "      <td>89.38</td>\n",
       "      <td>0.157509</td>\n",
       "      <td>100.90</td>\n",
       "      <td>7255.750000</td>\n",
       "      <td>0.531250</td>\n",
       "      <td>33.39</td>\n",
       "    </tr>\n",
       "    <tr>\n",
       "      <th>63594</th>\n",
       "      <td>-3.0</td>\n",
       "      <td>20.0</td>\n",
       "      <td>54.0</td>\n",
       "      <td>83.42</td>\n",
       "      <td>0.158789</td>\n",
       "      <td>100.82</td>\n",
       "      <td>7256.296875</td>\n",
       "      <td>0.546875</td>\n",
       "      <td>33.39</td>\n",
       "    </tr>\n",
       "  </tbody>\n",
       "</table>\n",
       "<p>63595 rows × 9 columns</p>\n",
       "</div>"
      ],
      "text/plain": [
       "       X_AXIS  Y_AXIS  Z_AXIS     BVP       EDA  H_RATE           IBO  \\\n",
       "0       -30.0    -1.0    53.0  145.35  0.101207   72.27   2523.578125   \n",
       "1       -19.0    39.0    29.0  -21.71  0.866516   86.05   3246.812500   \n",
       "2        11.0     2.0    60.0    0.40  0.374081   93.53  19023.828125   \n",
       "3       -72.0   -22.0   -12.0    0.01  0.651727   60.38     44.718750   \n",
       "4        43.0   -55.0    -6.0   36.22  0.184489   79.40  15831.781250   \n",
       "...       ...     ...     ...     ...       ...     ...           ...   \n",
       "63590    40.0    44.0    42.0   33.56  0.140862   97.93   6220.968750   \n",
       "63591    64.0    34.0    39.0   39.65  0.110128   99.90   6223.640625   \n",
       "63592    43.0    43.0    32.0   41.69  0.142142  100.90   6241.687500   \n",
       "63593     0.0    35.0    59.0   89.38  0.157509  100.90   7255.750000   \n",
       "63594    -3.0    20.0    54.0   83.42  0.158789  100.82   7256.296875   \n",
       "\n",
       "            IB1   TEMP  \n",
       "0      0.937500  28.45  \n",
       "1      0.703125  32.77  \n",
       "2      0.531250  27.21  \n",
       "3      0.796875  35.18  \n",
       "4      0.640625  33.37  \n",
       "...         ...    ...  \n",
       "63590  0.656250  33.29  \n",
       "63591  0.562500  33.25  \n",
       "63592  0.687500  33.25  \n",
       "63593  0.531250  33.39  \n",
       "63594  0.546875  33.39  \n",
       "\n",
       "[63595 rows x 9 columns]"
      ]
     },
     "execution_count": 39,
     "metadata": {},
     "output_type": "execute_result"
    }
   ],
   "source": [
    "train_set"
   ]
  },
  {
   "attachments": {},
   "cell_type": "markdown",
   "id": "62f347ac",
   "metadata": {},
   "source": [
    "### **Importing the necessary libraries and models** ###"
   ]
  },
  {
   "cell_type": "code",
   "execution_count": 59,
   "id": "3a8e8ff8",
   "metadata": {},
   "outputs": [],
   "source": [
    "from sklearn.preprocessing import MinMaxScaler, OneHotEncoder\n",
    "from sklearn.model_selection import train_test_split\n",
    "from sklearn.feature_selection import SelectFromModel\n",
    "from sklearn.naive_bayes import GaussianNB\n",
    "from sklearn.ensemble import RandomForestClassifier\n",
    "from sklearn.linear_model import LogisticRegression\n",
    "from sklearn.tree import DecisionTreeClassifier\n",
    "from sklearn.metrics import accuracy_score, f1_score, precision_score, recall_score, classification_report, confusion_matrix"
   ]
  },
  {
   "attachments": {},
   "cell_type": "markdown",
   "id": "be26d6da",
   "metadata": {},
   "source": [
    "### **Train-Test Split** ###"
   ]
  },
  {
   "cell_type": "code",
   "execution_count": 55,
   "id": "06a58c16",
   "metadata": {},
   "outputs": [],
   "source": [
    "\n",
    "train, test, train_labels, test_labels = train_test_split(train_set, labels, test_size=0.3, random_state=42)\n"
   ]
  },
  {
   "attachments": {},
   "cell_type": "markdown",
   "id": "eb69dc28",
   "metadata": {},
   "source": [
    "### **Logistic Regression Model** ###"
   ]
  },
  {
   "cell_type": "code",
   "execution_count": 56,
   "id": "3f0a1026",
   "metadata": {},
   "outputs": [],
   "source": [
    "logisticRegr = LogisticRegression()\n",
    "logisticRegr.fit(train, train_labels)\n",
    "y_predl = logisticRegr.predict(test)"
   ]
  },
  {
   "cell_type": "code",
   "execution_count": 61,
   "id": "2f560012",
   "metadata": {},
   "outputs": [
    {
     "name": "stdout",
     "output_type": "stream",
     "text": [
      "acc = 0.8788720582839772\n",
      "pre = 0.8823601119507394\n",
      "recall = 0.879096078816634\n",
      "f1 = 0.8786379268052654\n"
     ]
    }
   ],
   "source": [
    "\n",
    "f1score   = f1_score        (test_labels, y_predl, average = 'macro')\n",
    "recall    = recall_score    (test_labels, y_predl, average = 'macro')\n",
    "precision = precision_score (test_labels, y_predl, average = 'macro')\n",
    "accuracy  = accuracy_score  (test_labels, y_predl)\n",
    "print('acc =', accuracy)\n",
    "print('pre =', precision)\n",
    "print('recall =', recall) \n",
    "print('f1 =', f1score)\n",
    "\n"
   ]
  },
  {
   "attachments": {},
   "cell_type": "markdown",
   "id": "e006eb8e",
   "metadata": {},
   "source": [
    "### **Cross Validation for logistic regression** ###"
   ]
  },
  {
   "cell_type": "code",
   "execution_count": 58,
   "id": "b34b8748",
   "metadata": {},
   "outputs": [
    {
     "name": "stdout",
     "output_type": "stream",
     "text": [
      "0.8792569314743842\n"
     ]
    }
   ],
   "source": [
    "from sklearn.model_selection import cross_val_score\n",
    "print(np.mean(cross_val_score(logisticRegr, train, train_labels, cv=5)))"
   ]
  },
  {
   "attachments": {},
   "cell_type": "markdown",
   "id": "b8627b93",
   "metadata": {},
   "source": [
    "### **Decision Tree Model** ###"
   ]
  },
  {
   "cell_type": "code",
   "execution_count": 60,
   "id": "af8a7dc7",
   "metadata": {},
   "outputs": [],
   "source": [
    "dtree=DecisionTreeClassifier()\n",
    "dtree.fit(train,train_labels)\n",
    "ypredt=dtree.predict(test)"
   ]
  },
  {
   "cell_type": "code",
   "execution_count": 62,
   "id": "0af849e4",
   "metadata": {},
   "outputs": [
    {
     "name": "stdout",
     "output_type": "stream",
     "text": [
      "acc = 1.0\n",
      "pre = 1.0\n",
      "recall = 1.0\n",
      "f1 = 1.0\n"
     ]
    }
   ],
   "source": [
    "f1score   = f1_score        (test_labels, ypredt, average = 'macro')\n",
    "recall    = recall_score    (test_labels, ypredt, average = 'macro')\n",
    "precision = precision_score (test_labels, ypredt, average = 'macro')\n",
    "accuracy  = accuracy_score  (test_labels, ypredt)\n",
    "print('acc =', accuracy)\n",
    "print('pre =', precision)\n",
    "print('recall =', recall) \n",
    "print('f1 =', f1score)"
   ]
  },
  {
   "attachments": {},
   "cell_type": "markdown",
   "id": "94941371",
   "metadata": {},
   "source": [
    "### **Cross-Validation for decision tree model** ###"
   ]
  },
  {
   "cell_type": "code",
   "execution_count": 64,
   "id": "c15932cf",
   "metadata": {},
   "outputs": [
    {
     "name": "stdout",
     "output_type": "stream",
     "text": [
      "0.9999775356621363\n"
     ]
    }
   ],
   "source": [
    "print(np.mean(cross_val_score(dtree, train, train_labels, cv=5)))"
   ]
  },
  {
   "attachments": {},
   "cell_type": "markdown",
   "id": "0e729fd1",
   "metadata": {},
   "source": [
    "### **Random Forest Model** ###"
   ]
  },
  {
   "cell_type": "code",
   "execution_count": 63,
   "id": "0a145a91",
   "metadata": {},
   "outputs": [
    {
     "name": "stdout",
     "output_type": "stream",
     "text": [
      "acc = 1.0\n",
      "pre = 1.0\n",
      "recall = 1.0\n",
      "f1 = 1.0\n"
     ]
    }
   ],
   "source": [
    "clf = RandomForestClassifier(n_estimators=100,max_depth=15)\n",
    "clf.fit(train, train_labels.values.ravel())\n",
    "\n",
    "y_pred = clf.predict(test)\n",
    "\n",
    "f1score   = f1_score        (test_labels, y_pred, average = 'macro')\n",
    "recall    = recall_score    (test_labels, y_pred, average = 'macro')\n",
    "precision = precision_score (test_labels, y_pred, average = 'macro')\n",
    "accuracy  = accuracy_score  (test_labels, y_pred)\n",
    "\n",
    "print('acc =', accuracy)\n",
    "print('pre =', precision)\n",
    "print('recall =', recall) \n",
    "print('f1 =', f1score)"
   ]
  },
  {
   "attachments": {},
   "cell_type": "markdown",
   "id": "152383ba",
   "metadata": {},
   "source": [
    "### **Cross-Validation for RandomForest Model** ###"
   ]
  },
  {
   "cell_type": "code",
   "execution_count": 53,
   "id": "7db5bba0",
   "metadata": {},
   "outputs": [
    {
     "name": "stdout",
     "output_type": "stream",
     "text": [
      "0.9999775356621363\n"
     ]
    }
   ],
   "source": [
    "print(np.mean(cross_val_score(clf, train, train_labels, cv=5)))"
   ]
  },
  {
   "cell_type": "code",
   "execution_count": 72,
   "id": "b7bd451c",
   "metadata": {},
   "outputs": [],
   "source": [
    "df_total = train_set.dropna()\n",
    "scalar = MinMaxScaler()\n",
    "x_scaled = scalar.fit_transform(df_total.iloc[:,0:9])\n",
    "data = pd.DataFrame(x_scaled)\n",
    "data = data.fillna(0)\n",
    "\n",
    "pred_t = clf.predict(data)\n",
    "pred_t = pd.DataFrame(pred_t)\n",
    "pred_t.columns=['pred']\n",
    "pred_t.head(30)\n",
    "pred_t.to_csv('pred'+'.csv')"
   ]
  }
 ],
 "metadata": {
  "kernelspec": {
   "display_name": "Python 3 (ipykernel)",
   "language": "python",
   "name": "python3"
  },
  "language_info": {
   "codemirror_mode": {
    "name": "ipython",
    "version": 3
   },
   "file_extension": ".py",
   "mimetype": "text/x-python",
   "name": "python",
   "nbconvert_exporter": "python",
   "pygments_lexer": "ipython3",
   "version": "3.9.5"
  }
 },
 "nbformat": 4,
 "nbformat_minor": 5
}
